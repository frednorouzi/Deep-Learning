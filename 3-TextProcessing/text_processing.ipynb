{
 "cells": [
  {
   "cell_type": "markdown",
   "metadata": {},
   "source": [
    "# Text Processing\n",
    "\n",
    "## Capturing Text Data\n",
    "\n",
    "### Plain Text"
   ]
  },
  {
   "cell_type": "code",
   "execution_count": 1,
   "metadata": {},
   "outputs": [
    {
     "name": "stdout",
     "output_type": "stream",
     "text": [
      "Hieroglyphic writing dates from c. 3000 BC, and is composed of hundreds of symbols. A hieroglyph can represent a word, a sound, or a silent determinative; and the same symbol can serve different purposes in different contexts. Hieroglyphs were a formal script, used on stone monuments and in tombs, that could be as detailed as individual works of art.\n",
      "\n"
     ]
    }
   ],
   "source": [
    "import os\n",
    "\n",
    "# Read in a plain text file\n",
    "with open(os.path.join(\"data\", \"hieroglyph.txt\"), \"r\") as f:\n",
    "    text = f.read()\n",
    "    print(text)"
   ]
  },
  {
   "cell_type": "markdown",
   "metadata": {},
   "source": [
    "### Tabular Data"
   ]
  },
  {
   "cell_type": "code",
   "execution_count": 4,
   "metadata": {
    "scrolled": true
   },
   "outputs": [
    {
     "data": {
      "text/html": [
       "<div>\n",
       "<style scoped>\n",
       "    .dataframe tbody tr th:only-of-type {\n",
       "        vertical-align: middle;\n",
       "    }\n",
       "\n",
       "    .dataframe tbody tr th {\n",
       "        vertical-align: top;\n",
       "    }\n",
       "\n",
       "    .dataframe thead th {\n",
       "        text-align: right;\n",
       "    }\n",
       "</style>\n",
       "<table border=\"1\" class=\"dataframe\">\n",
       "  <thead>\n",
       "    <tr style=\"text-align: right;\">\n",
       "      <th></th>\n",
       "      <th>publisher</th>\n",
       "      <th>title</th>\n",
       "    </tr>\n",
       "  </thead>\n",
       "  <tbody>\n",
       "    <tr>\n",
       "      <th>0</th>\n",
       "      <td>Livemint</td>\n",
       "      <td>fed's charles plosser sees high bar for change...</td>\n",
       "    </tr>\n",
       "    <tr>\n",
       "      <th>1</th>\n",
       "      <td>IFA Magazine</td>\n",
       "      <td>us open: stocks fall after fed official hints ...</td>\n",
       "    </tr>\n",
       "    <tr>\n",
       "      <th>2</th>\n",
       "      <td>IFA Magazine</td>\n",
       "      <td>fed risks falling 'behind the curve', charles ...</td>\n",
       "    </tr>\n",
       "    <tr>\n",
       "      <th>3</th>\n",
       "      <td>Moneynews</td>\n",
       "      <td>fed's plosser: nasty weather has curbed job gr...</td>\n",
       "    </tr>\n",
       "    <tr>\n",
       "      <th>4</th>\n",
       "      <td>NASDAQ</td>\n",
       "      <td>plosser: fed may have to accelerate tapering pace</td>\n",
       "    </tr>\n",
       "  </tbody>\n",
       "</table>\n",
       "</div>"
      ],
      "text/plain": [
       "      publisher                                              title\n",
       "0      Livemint  fed's charles plosser sees high bar for change...\n",
       "1  IFA Magazine  us open: stocks fall after fed official hints ...\n",
       "2  IFA Magazine  fed risks falling 'behind the curve', charles ...\n",
       "3     Moneynews  fed's plosser: nasty weather has curbed job gr...\n",
       "4        NASDAQ  plosser: fed may have to accelerate tapering pace"
      ]
     },
     "execution_count": 4,
     "metadata": {},
     "output_type": "execute_result"
    }
   ],
   "source": [
    "import pandas as pd\n",
    "\n",
    "# Extract text column from a dataframe\n",
    "df = pd.read_csv(os.path.join(\"data\", \"news.csv\"))\n",
    "df.head()[['publisher', 'title']]\n",
    "\n",
    "# Convert text column to lowercase\n",
    "df['title'] = df['title'].str.lower()\n",
    "df.head()[['publisher', 'title']]"
   ]
  },
  {
   "cell_type": "markdown",
   "metadata": {},
   "source": [
    "### Online Resource"
   ]
  },
  {
   "cell_type": "code",
   "execution_count": 5,
   "metadata": {
    "scrolled": true
   },
   "outputs": [
    {
     "name": "stdout",
     "output_type": "stream",
     "text": [
      "{\n",
      "    \"success\": {\n",
      "        \"total\": 1\n",
      "    },\n",
      "    \"contents\": {\n",
      "        \"quotes\": [\n",
      "            {\n",
      "                \"quote\": \"Age is an issue of mind over matter. If you don\\u2019t mind, it doesn\\u2019t matter....\",\n",
      "                \"length\": \"91\",\n",
      "                \"author\": \"Mark Twain\",\n",
      "                \"tags\": [\n",
      "                    \"age\",\n",
      "                    \"inspire\",\n",
      "                    \"tod\"\n",
      "                ],\n",
      "                \"category\": \"inspire\",\n",
      "                \"date\": \"2019-07-20\",\n",
      "                \"permalink\": \"https://theysaidso.com/quote/768275-mark-twain-age-is-an-issue-of-mind-over-matter-if-you-dont-mind-it-doesnt-matter\",\n",
      "                \"title\": \"Inspiring Quote of the day\",\n",
      "                \"background\": \"https://theysaidso.com/img/bgs/man_on_the_mountain.jpg\",\n",
      "                \"id\": \"I5kUYqjgtJIcJlwMuFk_xgeF\"\n",
      "            }\n",
      "        ],\n",
      "        \"copyright\": \"2017-19 theysaidso.com\"\n",
      "    }\n",
      "}\n",
      "Age is an issue of mind over matter. If you don’t mind, it doesn’t matter.... \n",
      "-- Mark Twain\n"
     ]
    }
   ],
   "source": [
    "import requests\n",
    "import json\n",
    "\n",
    "# Fetch data from a REST API\n",
    "r = requests.get(\n",
    "    \"https://quotes.rest/qod.json\")\n",
    "res = r.json()\n",
    "print(json.dumps(res, indent=4))\n",
    "\n",
    "# Extract relevant object and field\n",
    "q = res[\"contents\"][\"quotes\"][0]\n",
    "print(q[\"quote\"], \"\\n--\", q[\"author\"])"
   ]
  },
  {
   "cell_type": "markdown",
   "metadata": {},
   "source": [
    "## Cleaning"
   ]
  },
  {
   "cell_type": "code",
   "execution_count": 6,
   "metadata": {
    "scrolled": true
   },
   "outputs": [
    {
     "name": "stdout",
     "output_type": "stream",
     "text": [
      "<html op=\"news\"><head><meta name=\"referrer\" content=\"origin\"><meta name=\"viewport\" content=\"width=device-width, initial-scale=1.0\"><link rel=\"stylesheet\" type=\"text/css\" href=\"news.css?1g4ZHDnh1q4b8wAQN0wQ\">\n",
      "            <link rel=\"shortcut icon\" href=\"favicon.ico\">\n",
      "          <link rel=\"alternate\" type=\"application/rss+xml\" title=\"RSS\" href=\"rss\">\n",
      "        <title>Hacker News</title></head><body><center><table id=\"hnmain\" border=\"0\" cellpadding=\"0\" cellspacing=\"0\" width=\"85%\" bgcolor=\"#f6f6ef\">\n",
      "        <tr><td bgcolor=\"#ff6600\"><table border=\"0\" cellpadding=\"0\" cellspacing=\"0\" width=\"100%\" style=\"padding:2px\"><tr><td style=\"width:18px;padding-right:4px\"><a href=\"https://news.ycombinator.com\"><img src=\"y18.gif\" width=\"18\" height=\"18\" style=\"border:1px white solid;\"></a></td>\n",
      "                  <td style=\"line-height:12pt; height:10px;\"><span class=\"pagetop\"><b class=\"hnname\"><a href=\"news\">Hacker News</a></b>\n",
      "              <a href=\"newest\">new</a> | <a href=\"front\">past</a> | <a href=\"newcomments\">comments</a> | <a href=\"ask\">ask</a> | <a href=\"show\">show</a> | <a href=\"jobs\">jobs</a> | <a href=\"submit\">submit</a>            </span></td><td style=\"text-align:right;padding-right:4px;\"><span class=\"pagetop\">\n",
      "                              <a href=\"login?goto=news\">login</a>\n",
      "                          </span></td>\n",
      "              </tr></table></td></tr>\n",
      "<tr id=\"pagespace\" title=\"\" style=\"height:10px\"></tr><tr><td><table border=\"0\" cellpadding=\"0\" cellspacing=\"0\" class=\"itemlist\">\n",
      "              <tr class='athing' id='20487625'>\n",
      "      <td align=\"right\" valign=\"top\" class=\"title\"><span class=\"rank\">1.</span></td>      <td valign=\"top\" class=\"votelinks\"><center><a id='up_20487625' href='vote?id=20487625&amp;how=up&amp;goto=news'><div class='votearrow' title='upvote'></div></a></center></td><td class=\"title\"><a href=\"https://blog.trailofbits.com/2019/07/19/understanding-docker-container-escapes/\" class=\"storylink\">Understanding Docker Container Escapes</a><span class=\"sitebit comhead\"> (<a href=\"from?site=trailofbits.com\"><span class=\"sitestr\">trailofbits.com</span></a>)</span></td></tr><tr><td colspan=\"2\"></td><td class=\"subtext\">\n",
      "        <span class=\"score\" id=\"score_20487625\">34 points</span> by <a href=\"user?id=ingve\" class=\"hnuser\">ingve</a> <span class=\"age\"><a href=\"item?id=20487625\">1 hour ago</a></span> <span id=\"unv_20487625\"></span> | <a href=\"hide?id=20487625&amp;goto=news\">hide</a> | <a href=\"item?id=20487625\">11&nbsp;comments</a>              </td></tr>\n",
      "      <tr class=\"spacer\" style=\"height:5px\"></tr>\n",
      "                <tr class='athing' id='20486462'>\n",
      "      <td align=\"right\" valign=\"top\" class=\"title\"><span class=\"rank\">2.</span></td>      <td valign=\"top\" class=\"votelinks\"><center><a id='up_20486462' href='vote?id=20486462&amp;how=up&amp;goto=news'><div class='votearrow' title='upvote'></div></a></center></td><td class=\"title\"><a href=\"https://github.com/NixOS/rfcs/pull/49\" class=\"storylink\">Flakes – Proposed mechanism to package Nix expressions into composable entities</a><span class=\"sitebit comhead\"> (<a href=\"from?site=github.com\"><span class=\"sitestr\">github.com</span></a>)</span></td></tr><tr><td colspan=\"2\"></td><td class=\"subtext\">\n",
      "        <span class=\"score\" id=\"score_20486462\">108 points</span> by <a href=\"user?id=based2\" class=\"hnuser\">based2</a> <span class=\"age\"><a href=\"item?id=20486462\">5 hours ago</a></span> <span id=\"unv_20486462\"></span> | <a href=\"hide?id=20486462&amp;goto=news\">hide</a> | <a href=\"item?id=20486462\">20&nbsp;comments</a>              </td></tr>\n",
      "      <tr class=\"spacer\" style=\"height:5px\"></tr>\n",
      "                <tr class='athing' id='20486830'>\n",
      "      <td align=\"right\" valign=\"top\" class=\"title\"><span class=\"rank\">3.</span></td>      <td valign=\"top\" class=\"votelinks\"><center><a id='up_20486830' href='vote?id=20486830&amp;how=up&amp;goto=news'><div class='votearrow' title='upvote'></div></a></center></td><td class=\"title\"><a href=\"https://d1.awsstatic.com/whitepapers/architecture/AWS-Reliability-Pillar.pdf\" class=\"storylink\">The reliability pillar of the AWS Well-Architected Framework [pdf]</a><span class=\"sitebit comhead\"> (<a href=\"from?site=awsstatic.com\"><span class=\"sitestr\">awsstatic.com</span></a>)</span></td></tr><tr><td colspan=\"2\"></td><td class=\"subtext\">\n",
      "        <span class=\"score\" id=\"score_20486830\">77 points</span> by <a href=\"user?id=robfig\" class=\"hnuser\">robfig</a> <span class=\"age\"><a href=\"item?id=20486830\">4 hours ago</a></span> <span id=\"unv_20486830\"></span> | <a href=\"hide?id=20486830&amp;goto=news\">hide</a> | <a href=\"item?id=20486830\">37&nbsp;comments</a>              </td></tr>\n",
      "      <tr class=\"spacer\" style=\"height:5px\"></tr>\n",
      "                <tr class='athing' id='20482050'>\n",
      "      <td align=\"right\" valign=\"top\" class=\"title\"><span class=\"rank\">4.</span></td>      <td valign=\"top\" class=\"votelinks\"><center><a id='up_20482050' href='vote?id=20482050&amp;how=up&amp;goto=news'><div class='votearrow' title='upvote'></div></a></center></td><td class=\"title\"><a href=\"https://time.com/4846153/ancient-rome-concrete-cement-seawater/\" class=\"storylink\">How Ancient Rome’s Concrete Has Survived 2,000 Years (2017)</a><span class=\"sitebit comhead\"> (<a href=\"from?site=time.com\"><span class=\"sitestr\">time.com</span></a>)</span></td></tr><tr><td colspan=\"2\"></td><td class=\"subtext\">\n",
      "        <span class=\"score\" id=\"score_20482050\">74 points</span> by <a href=\"user?id=diodorus\" class=\"hnuser\">diodorus</a> <span class=\"age\"><a href=\"item?id=20482050\">5 hours ago</a></span> <span id=\"unv_20482050\"></span> | <a href=\"hide?id=20482050&amp;goto=news\">hide</a> | <a href=\"item?id=20482050\">13&nbsp;comments</a>              </td></tr>\n",
      "      <tr class=\"spacer\" style=\"height:5px\"></tr>\n",
      "                <tr class='athing' id='20487860'>\n",
      "      <td align=\"right\" valign=\"top\" class=\"title\"><span class=\"rank\">5.</span></td>      <td valign=\"top\" class=\"votelinks\"><center><a id='up_20487860' href='vote?id=20487860&amp;how=up&amp;goto=news'><div class='votearrow' title='upvote'></div></a></center></td><td class=\"title\"><a href=\"https://en.wikipedia.org/wiki/Inferno_(operating_system)\" class=\"storylink\">Inferno (Operating System)</a><span class=\"sitebit comhead\"> (<a href=\"from?site=wikipedia.org\"><span class=\"sitestr\">wikipedia.org</span></a>)</span></td></tr><tr><td colspan=\"2\"></td><td class=\"subtext\">\n",
      "        <span class=\"score\" id=\"score_20487860\">8 points</span> by <a href=\"user?id=giancarlostoro\" class=\"hnuser\">giancarlostoro</a> <span class=\"age\"><a href=\"item?id=20487860\">1 hour ago</a></span> <span id=\"unv_20487860\"></span> | <a href=\"hide?id=20487860&amp;goto=news\">hide</a> | <a href=\"item?id=20487860\">discuss</a>              </td></tr>\n",
      "      <tr class=\"spacer\" style=\"height:5px\"></tr>\n",
      "                <tr class='athing' id='20485876'>\n",
      "      <td align=\"right\" valign=\"top\" class=\"title\"><span class=\"rank\">6.</span></td>      <td valign=\"top\" class=\"votelinks\"><center><a id='up_20485876' href='vote?id=20485876&amp;how=up&amp;goto=news'><div class='votearrow' title='upvote'></div></a></center></td><td class=\"title\"><a href=\"https://doi.org/10.1111/phin.12186\" class=\"storylink\">Wittgenstein’s Legacy: The Principles of the Private Language Arguments (2018)</a><span class=\"sitebit comhead\"> (<a href=\"from?site=doi.org\"><span class=\"sitestr\">doi.org</span></a>)</span></td></tr><tr><td colspan=\"2\"></td><td class=\"subtext\">\n",
      "        <span class=\"score\" id=\"score_20485876\">72 points</span> by <a href=\"user?id=tokyoseb\" class=\"hnuser\">tokyoseb</a> <span class=\"age\"><a href=\"item?id=20485876\">6 hours ago</a></span> <span id=\"unv_20485876\"></span> | <a href=\"hide?id=20485876&amp;goto=news\">hide</a> | <a href=\"item?id=20485876\">37&nbsp;comments</a>              </td></tr>\n",
      "      <tr class=\"spacer\" style=\"height:5px\"></tr>\n",
      "                <tr class='athing' id='20486178'>\n",
      "      <td align=\"right\" valign=\"top\" class=\"title\"><span class=\"rank\">7.</span></td>      <td valign=\"top\" class=\"votelinks\"><center><a id='up_20486178' href='vote?id=20486178&amp;how=up&amp;goto=news'><div class='votearrow' title='upvote'></div></a></center></td><td class=\"title\"><a href=\"https://utcc.utoronto.ca/~cks/space/blog/linux/ZFSOnLinuxARCShrinkage\" class=\"storylink\">ZFS on Linux still has annoying issues with ARC size</a><span class=\"sitebit comhead\"> (<a href=\"from?site=utoronto.ca\"><span class=\"sitestr\">utoronto.ca</span></a>)</span></td></tr><tr><td colspan=\"2\"></td><td class=\"subtext\">\n",
      "        <span class=\"score\" id=\"score_20486178\">46 points</span> by <a href=\"user?id=protomyth\" class=\"hnuser\">protomyth</a> <span class=\"age\"><a href=\"item?id=20486178\">5 hours ago</a></span> <span id=\"unv_20486178\"></span> | <a href=\"hide?id=20486178&amp;goto=news\">hide</a> | <a href=\"item?id=20486178\">4&nbsp;comments</a>              </td></tr>\n",
      "      <tr class=\"spacer\" style=\"height:5px\"></tr>\n",
      "                <tr class='athing' id='20484904'>\n",
      "      <td align=\"right\" valign=\"top\" class=\"title\"><span class=\"rank\">8.</span></td>      <td valign=\"top\" class=\"votelinks\"><center><a id='up_20484904' href='vote?id=20484904&amp;how=up&amp;goto=news'><div class='votearrow' title='upvote'></div></a></center></td><td class=\"title\"><a href=\"https://nico.dorfbrunnen.eu/posts/2019/reproducibility-fdroid/\" class=\"storylink\">Trust is good, control is better: Reproducible builds at F-Droid</a><span class=\"sitebit comhead\"> (<a href=\"from?site=dorfbrunnen.eu\"><span class=\"sitestr\">dorfbrunnen.eu</span></a>)</span></td></tr><tr><td colspan=\"2\"></td><td class=\"subtext\">\n",
      "        <span class=\"score\" id=\"score_20484904\">141 points</span> by <a href=\"user?id=ericdanielski\" class=\"hnuser\">ericdanielski</a> <span class=\"age\"><a href=\"item?id=20484904\">10 hours ago</a></span> <span id=\"unv_20484904\"></span> | <a href=\"hide?id=20484904&amp;goto=news\">hide</a> | <a href=\"item?id=20484904\">36&nbsp;comments</a>              </td></tr>\n",
      "      <tr class=\"spacer\" style=\"height:5px\"></tr>\n",
      "                <tr class='athing' id='20487542'>\n",
      "      <td align=\"right\" valign=\"top\" class=\"title\"><span class=\"rank\">9.</span></td>      <td valign=\"top\" class=\"votelinks\"><center><a id='up_20487542' href='vote?id=20487542&amp;how=up&amp;goto=news'><div class='votearrow' title='upvote'></div></a></center></td><td class=\"title\"><a href=\"https://arstechnica.com/science/2019/07/running-the-numbers-on-an-insane-scheme-to-save-antarctic-ice/\" class=\"storylink\">Running the numbers on an insane scheme to save Antarctic ice</a><span class=\"sitebit comhead\"> (<a href=\"from?site=arstechnica.com\"><span class=\"sitestr\">arstechnica.com</span></a>)</span></td></tr><tr><td colspan=\"2\"></td><td class=\"subtext\">\n",
      "        <span class=\"score\" id=\"score_20487542\">14 points</span> by <a href=\"user?id=jseliger\" class=\"hnuser\">jseliger</a> <span class=\"age\"><a href=\"item?id=20487542\">2 hours ago</a></span> <span id=\"unv_20487542\"></span> | <a href=\"hide?id=20487542&amp;goto=news\">hide</a> | <a href=\"item?id=20487542\">3&nbsp;comments</a>              </td></tr>\n",
      "      <tr class=\"spacer\" style=\"height:5px\"></tr>\n",
      "                <tr class='athing' id='20484444'>\n",
      "      <td align=\"right\" valign=\"top\" class=\"title\"><span class=\"rank\">10.</span></td>      <td valign=\"top\" class=\"votelinks\"><center><a id='up_20484444' href='vote?id=20484444&amp;how=up&amp;goto=news'><div class='votearrow' title='upvote'></div></a></center></td><td class=\"title\"><a href=\"https://www.bloomberg.com/news/articles/2019-07-19/tinder-bypasses-google-play-joining-revolt-against-app-store-fee\" class=\"storylink\">Tinder Bypasses Google Play, Joining Revolt Against App Store Fee</a><span class=\"sitebit comhead\"> (<a href=\"from?site=bloomberg.com\"><span class=\"sitestr\">bloomberg.com</span></a>)</span></td></tr><tr><td colspan=\"2\"></td><td class=\"subtext\">\n",
      "        <span class=\"score\" id=\"score_20484444\">228 points</span> by <a href=\"user?id=samsonradu\" class=\"hnuser\">samsonradu</a> <span class=\"age\"><a href=\"item?id=20484444\">14 hours ago</a></span> <span id=\"unv_20484444\"></span> | <a href=\"hide?id=20484444&amp;goto=news\">hide</a> | <a href=\"item?id=20484444\">155&nbsp;comments</a>              </td></tr>\n",
      "      <tr class=\"spacer\" style=\"height:5px\"></tr>\n",
      "                <tr class='athing' id='20487583'>\n",
      "      <td align=\"right\" valign=\"top\" class=\"title\"><span class=\"rank\">11.</span></td>      <td valign=\"top\" class=\"votelinks\"><center><a id='up_20487583' href='vote?id=20487583&amp;how=up&amp;goto=news'><div class='votearrow' title='upvote'></div></a></center></td><td class=\"title\"><a href=\"https://www.theatlantic.com/magazine/archive/2019/08/raj-chettys-american-dream/592804/\" class=\"storylink\">Raj Chetty’s American Dream</a><span class=\"sitebit comhead\"> (<a href=\"from?site=theatlantic.com\"><span class=\"sitestr\">theatlantic.com</span></a>)</span></td></tr><tr><td colspan=\"2\"></td><td class=\"subtext\">\n",
      "        <span class=\"score\" id=\"score_20487583\">12 points</span> by <a href=\"user?id=johnny313\" class=\"hnuser\">johnny313</a> <span class=\"age\"><a href=\"item?id=20487583\">2 hours ago</a></span> <span id=\"unv_20487583\"></span> | <a href=\"hide?id=20487583&amp;goto=news\">hide</a> | <a href=\"item?id=20487583\">12&nbsp;comments</a>              </td></tr>\n",
      "      <tr class=\"spacer\" style=\"height:5px\"></tr>\n",
      "                <tr class='athing' id='20487691'>\n",
      "      <td align=\"right\" valign=\"top\" class=\"title\"><span class=\"rank\">12.</span></td>      <td valign=\"top\" class=\"votelinks\"><center><a id='up_20487691' href='vote?id=20487691&amp;how=up&amp;goto=news'><div class='votearrow' title='upvote'></div></a></center></td><td class=\"title\"><a href=\"https://www.anandtech.com/show/14656/intels-xeon-platinum-8284-cpu-when-300-mhz-cost-5500\" class=\"storylink\">Intel’s Xeon Platinum 8284 CPU: When 300 MHz Cost $5,500</a><span class=\"sitebit comhead\"> (<a href=\"from?site=anandtech.com\"><span class=\"sitestr\">anandtech.com</span></a>)</span></td></tr><tr><td colspan=\"2\"></td><td class=\"subtext\">\n",
      "        <span class=\"score\" id=\"score_20487691\">26 points</span> by <a href=\"user?id=varshithr\" class=\"hnuser\">varshithr</a> <span class=\"age\"><a href=\"item?id=20487691\">1 hour ago</a></span> <span id=\"unv_20487691\"></span> | <a href=\"hide?id=20487691&amp;goto=news\">hide</a> | <a href=\"item?id=20487691\">21&nbsp;comments</a>              </td></tr>\n",
      "      <tr class=\"spacer\" style=\"height:5px\"></tr>\n",
      "                <tr class='athing' id='20485514'>\n",
      "      <td align=\"right\" valign=\"top\" class=\"title\"><span class=\"rank\">13.</span></td>      <td valign=\"top\" class=\"votelinks\"><center><a id='up_20485514' href='vote?id=20485514&amp;how=up&amp;goto=news'><div class='votearrow' title='upvote'></div></a></center></td><td class=\"title\"><a href=\"https://www.zdnet.com/article/hackers-breach-fsb-contractor-expose-tor-deanonymization-project/\" class=\"storylink\">Hackers breach FSB contractor, expose Tor deanonymization project</a><span class=\"sitebit comhead\"> (<a href=\"from?site=zdnet.com\"><span class=\"sitestr\">zdnet.com</span></a>)</span></td></tr><tr><td colspan=\"2\"></td><td class=\"subtext\">\n",
      "        <span class=\"score\" id=\"score_20485514\">239 points</span> by <a href=\"user?id=ga-vu\" class=\"hnuser\">ga-vu</a> <span class=\"age\"><a href=\"item?id=20485514\">7 hours ago</a></span> <span id=\"unv_20485514\"></span> | <a href=\"hide?id=20485514&amp;goto=news\">hide</a> | <a href=\"item?id=20485514\">87&nbsp;comments</a>              </td></tr>\n",
      "      <tr class=\"spacer\" style=\"height:5px\"></tr>\n",
      "                <tr class='athing' id='20487762'>\n",
      "      <td align=\"right\" valign=\"top\" class=\"title\"><span class=\"rank\">14.</span></td>      <td valign=\"top\" class=\"votelinks\"><center><a id='up_20487762' href='vote?id=20487762&amp;how=up&amp;goto=news'><div class='votearrow' title='upvote'></div></a></center></td><td class=\"title\"><a href=\"https://github.com/W4RH4WK/Debloat-Windows-10\" class=\"storylink\">Windows 10 Debloat Script</a><span class=\"sitebit comhead\"> (<a href=\"from?site=github.com\"><span class=\"sitestr\">github.com</span></a>)</span></td></tr><tr><td colspan=\"2\"></td><td class=\"subtext\">\n",
      "        <span class=\"score\" id=\"score_20487762\">61 points</span> by <a href=\"user?id=wsdookadr\" class=\"hnuser\">wsdookadr</a> <span class=\"age\"><a href=\"item?id=20487762\">1 hour ago</a></span> <span id=\"unv_20487762\"></span> | <a href=\"hide?id=20487762&amp;goto=news\">hide</a> | <a href=\"item?id=20487762\">59&nbsp;comments</a>              </td></tr>\n",
      "      <tr class=\"spacer\" style=\"height:5px\"></tr>\n",
      "                <tr class='athing' id='20484330'>\n",
      "      <td align=\"right\" valign=\"top\" class=\"title\"><span class=\"rank\">15.</span></td>      <td valign=\"top\" class=\"votelinks\"><center><a id='up_20484330' href='vote?id=20484330&amp;how=up&amp;goto=news'><div class='votearrow' title='upvote'></div></a></center></td><td class=\"title\"><a href=\"https://www.masswerk.at/nowgobang/2019/lgp-30\" class=\"storylink\">LGP-30 – A Drum Computer of Significance</a><span class=\"sitebit comhead\"> (<a href=\"from?site=masswerk.at\"><span class=\"sitestr\">masswerk.at</span></a>)</span></td></tr><tr><td colspan=\"2\"></td><td class=\"subtext\">\n",
      "        <span class=\"score\" id=\"score_20484330\">19 points</span> by <a href=\"user?id=masswerk\" class=\"hnuser\">masswerk</a> <span class=\"age\"><a href=\"item?id=20484330\">5 hours ago</a></span> <span id=\"unv_20484330\"></span> | <a href=\"hide?id=20484330&amp;goto=news\">hide</a> | <a href=\"item?id=20484330\">3&nbsp;comments</a>              </td></tr>\n",
      "      <tr class=\"spacer\" style=\"height:5px\"></tr>\n",
      "                <tr class='athing' id='20485006'>\n",
      "      <td align=\"right\" valign=\"top\" class=\"title\"><span class=\"rank\">16.</span></td>      <td valign=\"top\" class=\"votelinks\"><center><a id='up_20485006' href='vote?id=20485006&amp;how=up&amp;goto=news'><div class='votearrow' title='upvote'></div></a></center></td><td class=\"title\"><a href=\"http://www.mooreds.com/wordpress/archives/3232\" class=\"storylink\">What senior engineers do: fix knowledge holes</a><span class=\"sitebit comhead\"> (<a href=\"from?site=mooreds.com\"><span class=\"sitestr\">mooreds.com</span></a>)</span></td></tr><tr><td colspan=\"2\"></td><td class=\"subtext\">\n",
      "        <span class=\"score\" id=\"score_20485006\">53 points</span> by <a href=\"user?id=mooreds\" class=\"hnuser\">mooreds</a> <span class=\"age\"><a href=\"item?id=20485006\">10 hours ago</a></span> <span id=\"unv_20485006\"></span> | <a href=\"hide?id=20485006&amp;goto=news\">hide</a> | <a href=\"item?id=20485006\">37&nbsp;comments</a>              </td></tr>\n",
      "      <tr class=\"spacer\" style=\"height:5px\"></tr>\n",
      "                <tr class='athing' id='20486348'>\n",
      "      <td align=\"right\" valign=\"top\" class=\"title\"><span class=\"rank\">17.</span></td>      <td valign=\"top\" class=\"votelinks\"><center><a id='up_20486348' href='vote?id=20486348&amp;how=up&amp;goto=news'><div class='votearrow' title='upvote'></div></a></center></td><td class=\"title\"><a href=\"https://quillette.com/2019/07/19/the-problem-with-tourist-journalism/\" class=\"storylink\">I work in an Amazon warehouse in West Sacramento</a><span class=\"sitebit comhead\"> (<a href=\"from?site=quillette.com\"><span class=\"sitestr\">quillette.com</span></a>)</span></td></tr><tr><td colspan=\"2\"></td><td class=\"subtext\">\n",
      "        <span class=\"score\" id=\"score_20486348\">126 points</span> by <a href=\"user?id=juokaz\" class=\"hnuser\">juokaz</a> <span class=\"age\"><a href=\"item?id=20486348\">5 hours ago</a></span> <span id=\"unv_20486348\"></span> | <a href=\"hide?id=20486348&amp;goto=news\">hide</a> | <a href=\"item?id=20486348\">66&nbsp;comments</a>              </td></tr>\n",
      "      <tr class=\"spacer\" style=\"height:5px\"></tr>\n",
      "                <tr class='athing' id='20486902'>\n",
      "      <td align=\"right\" valign=\"top\" class=\"title\"><span class=\"rank\">18.</span></td>      <td valign=\"top\" class=\"votelinks\"><center><a id='up_20486902' href='vote?id=20486902&amp;how=up&amp;goto=news'><div class='votearrow' title='upvote'></div></a></center></td><td class=\"title\"><a href=\"https://www.cnbc.com/2019/07/20/heres-why-so-many-americans-cant-handle-a-400-unexpected-expense.html\" class=\"storylink\">Many Americans who live paycheck to paycheck blame debt</a><span class=\"sitebit comhead\"> (<a href=\"from?site=cnbc.com\"><span class=\"sitestr\">cnbc.com</span></a>)</span></td></tr><tr><td colspan=\"2\"></td><td class=\"subtext\">\n",
      "        <span class=\"score\" id=\"score_20486902\">49 points</span> by <a href=\"user?id=hhs\" class=\"hnuser\">hhs</a> <span class=\"age\"><a href=\"item?id=20486902\">3 hours ago</a></span> <span id=\"unv_20486902\"></span> | <a href=\"hide?id=20486902&amp;goto=news\">hide</a> | <a href=\"item?id=20486902\">142&nbsp;comments</a>              </td></tr>\n",
      "      <tr class=\"spacer\" style=\"height:5px\"></tr>\n",
      "                <tr class='athing' id='20484597'>\n",
      "      <td align=\"right\" valign=\"top\" class=\"title\"><span class=\"rank\">19.</span></td>      <td valign=\"top\" class=\"votelinks\"><center><a id='up_20484597' href='vote?id=20484597&amp;how=up&amp;goto=news'><div class='votearrow' title='upvote'></div></a></center></td><td class=\"title\"><a href=\"https://www.youtube.com/watch?v=Wp7GAKLSGnI\" class=\"storylink\">Oral History of Donald Knuth (2007) [video]</a><span class=\"sitebit comhead\"> (<a href=\"from?site=youtube.com\"><span class=\"sitestr\">youtube.com</span></a>)</span></td></tr><tr><td colspan=\"2\"></td><td class=\"subtext\">\n",
      "        <span class=\"score\" id=\"score_20484597\">32 points</span> by <a href=\"user?id=tosh\" class=\"hnuser\">tosh</a> <span class=\"age\"><a href=\"item?id=20484597\">8 hours ago</a></span> <span id=\"unv_20484597\"></span> | <a href=\"hide?id=20484597&amp;goto=news\">hide</a> | <a href=\"item?id=20484597\">2&nbsp;comments</a>              </td></tr>\n",
      "      <tr class=\"spacer\" style=\"height:5px\"></tr>\n",
      "                <tr class='athing' id='20476050'>\n",
      "      <td align=\"right\" valign=\"top\" class=\"title\"><span class=\"rank\">20.</span></td>      <td valign=\"top\" class=\"votelinks\"><center><a id='up_20476050' href='vote?id=20476050&amp;how=up&amp;goto=news'><div class='votearrow' title='upvote'></div></a></center></td><td class=\"title\"><a href=\"http://www.arrl.org/news/centenarian-radio-amateur-s-efforts-helped-pave-the-way-to-the-moon\" class=\"storylink\">Centenarian Radio Amateur’s Efforts Helped Pave the Way to the Moon</a><span class=\"sitebit comhead\"> (<a href=\"from?site=arrl.org\"><span class=\"sitestr\">arrl.org</span></a>)</span></td></tr><tr><td colspan=\"2\"></td><td class=\"subtext\">\n",
      "        <span class=\"score\" id=\"score_20476050\">27 points</span> by <a href=\"user?id=wglb\" class=\"hnuser\">wglb</a> <span class=\"age\"><a href=\"item?id=20476050\">9 hours ago</a></span> <span id=\"unv_20476050\"></span> | <a href=\"hide?id=20476050&amp;goto=news\">hide</a> | <a href=\"item?id=20476050\">discuss</a>              </td></tr>\n",
      "      <tr class=\"spacer\" style=\"height:5px\"></tr>\n",
      "                <tr class='athing' id='20486570'>\n",
      "      <td align=\"right\" valign=\"top\" class=\"title\"><span class=\"rank\">21.</span></td>      <td valign=\"top\" class=\"votelinks\"><center><a id='up_20486570' href='vote?id=20486570&amp;how=up&amp;goto=news'><div class='votearrow' title='upvote'></div></a></center></td><td class=\"title\"><a href=\"https://www.texasobserver.org/where-the-bodies-are-buried/\" class=\"storylink\">Where the Bodies Are Buried</a><span class=\"sitebit comhead\"> (<a href=\"from?site=texasobserver.org\"><span class=\"sitestr\">texasobserver.org</span></a>)</span></td></tr><tr><td colspan=\"2\"></td><td class=\"subtext\">\n",
      "        <span class=\"score\" id=\"score_20486570\">16 points</span> by <a href=\"user?id=laurex\" class=\"hnuser\">laurex</a> <span class=\"age\"><a href=\"item?id=20486570\">4 hours ago</a></span> <span id=\"unv_20486570\"></span> | <a href=\"hide?id=20486570&amp;goto=news\">hide</a> | <a href=\"item?id=20486570\">1&nbsp;comment</a>              </td></tr>\n",
      "      <tr class=\"spacer\" style=\"height:5px\"></tr>\n",
      "                <tr class='athing' id='20485807'>\n",
      "      <td align=\"right\" valign=\"top\" class=\"title\"><span class=\"rank\">22.</span></td>      <td valign=\"top\" class=\"votelinks\"><center><a id='up_20485807' href='vote?id=20485807&amp;how=up&amp;goto=news'><div class='votearrow' title='upvote'></div></a></center></td><td class=\"title\"><a href=\"https://twitter.com/MaryRobinette/status/1152277166996017152\" class=\"storylink\">Let's talk about peeing in space</a><span class=\"sitebit comhead\"> (<a href=\"from?site=twitter.com\"><span class=\"sitestr\">twitter.com</span></a>)</span></td></tr><tr><td colspan=\"2\"></td><td class=\"subtext\">\n",
      "        <span class=\"score\" id=\"score_20485807\">188 points</span> by <a href=\"user?id=etxm\" class=\"hnuser\">etxm</a> <span class=\"age\"><a href=\"item?id=20485807\">6 hours ago</a></span> <span id=\"unv_20485807\"></span> | <a href=\"hide?id=20485807&amp;goto=news\">hide</a> | <a href=\"item?id=20485807\">37&nbsp;comments</a>              </td></tr>\n",
      "      <tr class=\"spacer\" style=\"height:5px\"></tr>\n",
      "                <tr class='athing' id='20483970'>\n",
      "      <td align=\"right\" valign=\"top\" class=\"title\"><span class=\"rank\">23.</span></td>      <td valign=\"top\" class=\"votelinks\"><center><a id='up_20483970' href='vote?id=20483970&amp;how=up&amp;goto=news'><div class='votearrow' title='upvote'></div></a></center></td><td class=\"title\"><a href=\"https://www.scientificamerican.com/article/what-a-newfound-kingdom-means-for-the-tree-of-life/\" class=\"storylink\">What a Newfound Kingdom Means for the Tree of Life (2018)</a><span class=\"sitebit comhead\"> (<a href=\"from?site=scientificamerican.com\"><span class=\"sitestr\">scientificamerican.com</span></a>)</span></td></tr><tr><td colspan=\"2\"></td><td class=\"subtext\">\n",
      "        <span class=\"score\" id=\"score_20483970\">60 points</span> by <a href=\"user?id=curtis\" class=\"hnuser\">curtis</a> <span class=\"age\"><a href=\"item?id=20483970\">10 hours ago</a></span> <span id=\"unv_20483970\"></span> | <a href=\"hide?id=20483970&amp;goto=news\">hide</a> | <a href=\"item?id=20483970\">26&nbsp;comments</a>              </td></tr>\n",
      "      <tr class=\"spacer\" style=\"height:5px\"></tr>\n",
      "                <tr class='athing' id='20481223'>\n",
      "      <td align=\"right\" valign=\"top\" class=\"title\"><span class=\"rank\">24.</span></td>      <td valign=\"top\" class=\"votelinks\"><center><a id='up_20481223' href='vote?id=20481223&amp;how=up&amp;goto=news'><div class='votearrow' title='upvote'></div></a></center></td><td class=\"title\"><a href=\"https://harpers.org/archive/2019/08/semantic-drift/\" class=\"storylink\">Semantic Drift</a><span class=\"sitebit comhead\"> (<a href=\"from?site=harpers.org\"><span class=\"sitestr\">harpers.org</span></a>)</span></td></tr><tr><td colspan=\"2\"></td><td class=\"subtext\">\n",
      "        <span class=\"score\" id=\"score_20481223\">37 points</span> by <a href=\"user?id=drjohnson\" class=\"hnuser\">drjohnson</a> <span class=\"age\"><a href=\"item?id=20481223\">11 hours ago</a></span> <span id=\"unv_20481223\"></span> | <a href=\"hide?id=20481223&amp;goto=news\">hide</a> | <a href=\"item?id=20481223\">31&nbsp;comments</a>              </td></tr>\n",
      "      <tr class=\"spacer\" style=\"height:5px\"></tr>\n",
      "                <tr class='athing' id='20482902'>\n",
      "      <td align=\"right\" valign=\"top\" class=\"title\"><span class=\"rank\">25.</span></td>      <td valign=\"top\" class=\"votelinks\"><center><a id='up_20482902' href='vote?id=20482902&amp;how=up&amp;goto=news'><div class='votearrow' title='upvote'></div></a></center></td><td class=\"title\"><a href=\"https://www.tabletmag.com/jewish-arts-and-culture/288101/alan-lomax-origins-of-music\" class=\"storylink\">Alan Lomax and the Search for the Origins of Music</a><span class=\"sitebit comhead\"> (<a href=\"from?site=tabletmag.com\"><span class=\"sitestr\">tabletmag.com</span></a>)</span></td></tr><tr><td colspan=\"2\"></td><td class=\"subtext\">\n",
      "        <span class=\"score\" id=\"score_20482902\">33 points</span> by <a href=\"user?id=whocansay\" class=\"hnuser\">whocansay</a> <span class=\"age\"><a href=\"item?id=20482902\">13 hours ago</a></span> <span id=\"unv_20482902\"></span> | <a href=\"hide?id=20482902&amp;goto=news\">hide</a> | <a href=\"item?id=20482902\">3&nbsp;comments</a>              </td></tr>\n",
      "      <tr class=\"spacer\" style=\"height:5px\"></tr>\n",
      "                <tr class='athing' id='20485978'>\n",
      "      <td align=\"right\" valign=\"top\" class=\"title\"><span class=\"rank\">26.</span></td>      <td valign=\"top\" class=\"votelinks\"><center><a id='up_20485978' href='vote?id=20485978&amp;how=up&amp;goto=news'><div class='votearrow' title='upvote'></div></a></center></td><td class=\"title\"><a href=\"https://medium.com/hackernoon/announcing-quark-a-software-sketchbook-for-your-projects-2f53553415b\" class=\"storylink\">Quark – A software sketchbook for your projects</a><span class=\"sitebit comhead\"> (<a href=\"from?site=medium.com\"><span class=\"sitestr\">medium.com</span></a>)</span></td></tr><tr><td colspan=\"2\"></td><td class=\"subtext\">\n",
      "        <span class=\"score\" id=\"score_20485978\">84 points</span> by <a href=\"user?id=nishkalkashyap\" class=\"hnuser\">nishkalkashyap</a> <span class=\"age\"><a href=\"item?id=20485978\">6 hours ago</a></span> <span id=\"unv_20485978\"></span> | <a href=\"hide?id=20485978&amp;goto=news\">hide</a> | <a href=\"item?id=20485978\">21&nbsp;comments</a>              </td></tr>\n",
      "      <tr class=\"spacer\" style=\"height:5px\"></tr>\n",
      "                <tr class='athing' id='20484398'>\n",
      "      <td align=\"right\" valign=\"top\" class=\"title\"><span class=\"rank\">27.</span></td>      <td valign=\"top\" class=\"votelinks\"><center><a id='up_20484398' href='vote?id=20484398&amp;how=up&amp;goto=news'><div class='votearrow' title='upvote'></div></a></center></td><td class=\"title\"><a href=\"https://psas.scripts.mit.edu/home/get_file4.php?name=CAST_handbook.pdf\" class=\"storylink\">Cast Handbook: How to Learn More from Incidents and Accidents [pdf]</a><span class=\"sitebit comhead\"> (<a href=\"from?site=mit.edu\"><span class=\"sitestr\">mit.edu</span></a>)</span></td></tr><tr><td colspan=\"2\"></td><td class=\"subtext\">\n",
      "        <span class=\"score\" id=\"score_20484398\">41 points</span> by <a href=\"user?id=yarapavan\" class=\"hnuser\">yarapavan</a> <span class=\"age\"><a href=\"item?id=20484398\">14 hours ago</a></span> <span id=\"unv_20484398\"></span> | <a href=\"hide?id=20484398&amp;goto=news\">hide</a> | <a href=\"item?id=20484398\">3&nbsp;comments</a>              </td></tr>\n",
      "      <tr class=\"spacer\" style=\"height:5px\"></tr>\n",
      "                <tr class='athing' id='20485014'>\n",
      "      <td align=\"right\" valign=\"top\" class=\"title\"><span class=\"rank\">28.</span></td>      <td valign=\"top\" class=\"votelinks\"><center><a id='up_20485014' href='vote?id=20485014&amp;how=up&amp;goto=news'><div class='votearrow' title='upvote'></div></a></center></td><td class=\"title\"><a href=\"https://www.latimes.com/california/story/2019-07-19/oregon-lessons-california-housing-crisis\" class=\"storylink\">Oregon passed sweeping housing crisis laws</a><span class=\"sitebit comhead\"> (<a href=\"from?site=latimes.com\"><span class=\"sitestr\">latimes.com</span></a>)</span></td></tr><tr><td colspan=\"2\"></td><td class=\"subtext\">\n",
      "        <span class=\"score\" id=\"score_20485014\">132 points</span> by <a href=\"user?id=pseudolus\" class=\"hnuser\">pseudolus</a> <span class=\"age\"><a href=\"item?id=20485014\">10 hours ago</a></span> <span id=\"unv_20485014\"></span> | <a href=\"hide?id=20485014&amp;goto=news\">hide</a> | <a href=\"item?id=20485014\">213&nbsp;comments</a>              </td></tr>\n",
      "      <tr class=\"spacer\" style=\"height:5px\"></tr>\n",
      "                <tr class='athing' id='20481130'>\n",
      "      <td align=\"right\" valign=\"top\" class=\"title\"><span class=\"rank\">29.</span></td>      <td valign=\"top\" class=\"votelinks\"><center><a id='up_20481130' href='vote?id=20481130&amp;how=up&amp;goto=news'><div class='votearrow' title='upvote'></div></a></center></td><td class=\"title\"><a href=\"http://kk.org/thetechnium/one-dead-media/\" class=\"storylink\">One Dead Media (2008)</a><span class=\"sitebit comhead\"> (<a href=\"from?site=kk.org\"><span class=\"sitestr\">kk.org</span></a>)</span></td></tr><tr><td colspan=\"2\"></td><td class=\"subtext\">\n",
      "        <span class=\"score\" id=\"score_20481130\">14 points</span> by <a href=\"user?id=Tomte\" class=\"hnuser\">Tomte</a> <span class=\"age\"><a href=\"item?id=20481130\">8 hours ago</a></span> <span id=\"unv_20481130\"></span> | <a href=\"hide?id=20481130&amp;goto=news\">hide</a> | <a href=\"item?id=20481130\">3&nbsp;comments</a>              </td></tr>\n",
      "      <tr class=\"spacer\" style=\"height:5px\"></tr>\n",
      "                <tr class='athing' id='20477000'>\n",
      "      <td align=\"right\" valign=\"top\" class=\"title\"><span class=\"rank\">30.</span></td>      <td valign=\"top\" class=\"votelinks\"><center><a id='up_20477000' href='vote?id=20477000&amp;how=up&amp;goto=news'><div class='votearrow' title='upvote'></div></a></center></td><td class=\"title\"><a href=\"http://mishravikas.com/articles/2019-07/bypassing-anti-incognito-detection-google-chrome.html\" class=\"storylink\">Bypassing anti-incognito detection in Google Chrome</a><span class=\"sitebit comhead\"> (<a href=\"from?site=mishravikas.com\"><span class=\"sitestr\">mishravikas.com</span></a>)</span></td></tr><tr><td colspan=\"2\"></td><td class=\"subtext\">\n",
      "        <span class=\"score\" id=\"score_20477000\">210 points</span> by <a href=\"user?id=Cub3\" class=\"hnuser\">Cub3</a> <span class=\"age\"><a href=\"item?id=20477000\">17 hours ago</a></span> <span id=\"unv_20477000\"></span> | <a href=\"hide?id=20477000&amp;goto=news\">hide</a> | <a href=\"item?id=20477000\">88&nbsp;comments</a>              </td></tr>\n",
      "      <tr class=\"spacer\" style=\"height:5px\"></tr>\n",
      "            <tr class=\"morespace\" style=\"height:10px\"></tr><tr><td colspan=\"2\"></td><td class=\"title\"><a href=\"news?p=2\" class=\"morelink\" rel=\"next\">More</a></td></tr>\n",
      "  </table>\n",
      "</td></tr>\n",
      "<tr><td><img src=\"s.gif\" height=\"10\" width=\"0\"><table width=\"100%\" cellspacing=\"0\" cellpadding=\"1\"><tr><td bgcolor=\"#ff6600\"></td></tr></table><br><center><a href=\"https://www.startupschool.org\">\n",
      "        Registration is open for Startup School 2019. Classes start July 22nd.\n",
      "      </a></center><br><center><span class=\"yclinks\"><a href=\"newsguidelines.html\">Guidelines</a>\n",
      "        | <a href=\"newsfaq.html\">FAQ</a>\n",
      "        | <a href=\"mailto:hn@ycombinator.com\">Support</a>\n",
      "        | <a href=\"https://github.com/HackerNews/API\">API</a>\n",
      "        | <a href=\"security.html\">Security</a>\n",
      "        | <a href=\"lists\">Lists</a>\n",
      "        | <a href=\"bookmarklet.html\" rel=\"nofollow\">Bookmarklet</a>\n",
      "        | <a href=\"http://www.ycombinator.com/legal/\">Legal</a>\n",
      "        | <a href=\"http://www.ycombinator.com/apply/\">Apply to YC</a>\n",
      "        | <a href=\"mailto:hn@ycombinator.com\">Contact</a></span><br><br><form method=\"get\" action=\"//hn.algolia.com/\">Search:\n",
      "          <input type=\"text\" name=\"q\" value=\"\" size=\"17\" autocorrect=\"off\" spellcheck=\"false\" autocapitalize=\"off\" autocomplete=\"false\"></form>\n",
      "            </center></td></tr>\n",
      "      </table></center></body><script type='text/javascript' src='hn.js?1g4ZHDnh1q4b8wAQN0wQ'></script>\n",
      "  </html>\n",
      "\n"
     ]
    }
   ],
   "source": [
    "import requests\n",
    "\n",
    "# Fetch a web page\n",
    "r = requests.get(\"https://news.ycombinator.com\")\n",
    "print(r.text)"
   ]
  },
  {
   "cell_type": "code",
   "execution_count": 7,
   "metadata": {},
   "outputs": [
    {
     "name": "stdout",
     "output_type": "stream",
     "text": [
      "\n",
      "            \n",
      "          \n",
      "        Hacker News\n",
      "        \n",
      "                  Hacker News\n",
      "              new | past | comments | ask | show | jobs | submit            \n",
      "                              login\n",
      "                          \n",
      "              \n",
      "\n",
      "              \n",
      "      1.      Understanding Docker Container Escapes (trailofbits.com)\n",
      "        34 points by ingve 1 hour ago  | hide | 11&nbsp;comments              \n",
      "      \n",
      "                \n",
      "      2.      Flakes – Proposed mechanism to package Nix expressions into composable entities (github.com)\n",
      "        108 points by based2 5 hours ago  | hide | 20&nbsp;comments              \n",
      "      \n",
      "                \n",
      "      3.      The reliability pillar of the AWS Well-Architected Framework [pdf] (awsstatic.com)\n",
      "        77 points by robfig 4 hours ago  | hide | 37&nbsp;comments              \n",
      "      \n",
      "                \n",
      "      4.      How Ancient Rome’s Concrete Has Survived 2,000 Years (2017) (time.com)\n",
      "        74 points by diodorus 5 hours ago  | hide | 13&nbsp;comments              \n",
      "      \n",
      "                \n",
      "      5.      Inferno (Operating System) (wikipedia.org)\n",
      "        8 points by giancarlostoro 1 hour ago  | hide | discuss              \n",
      "      \n",
      "                \n",
      "      6.      Wittgenstein’s Legacy: The Principles of the Private Language Arguments (2018) (doi.org)\n",
      "        72 points by tokyoseb 6 hours ago  | hide | 37&nbsp;comments              \n",
      "      \n",
      "                \n",
      "      7.      ZFS on Linux still has annoying issues with ARC size (utoronto.ca)\n",
      "        46 points by protomyth 5 hours ago  | hide | 4&nbsp;comments              \n",
      "      \n",
      "                \n",
      "      8.      Trust is good, control is better: Reproducible builds at F-Droid (dorfbrunnen.eu)\n",
      "        141 points by ericdanielski 10 hours ago  | hide | 36&nbsp;comments              \n",
      "      \n",
      "                \n",
      "      9.      Running the numbers on an insane scheme to save Antarctic ice (arstechnica.com)\n",
      "        14 points by jseliger 2 hours ago  | hide | 3&nbsp;comments              \n",
      "      \n",
      "                \n",
      "      10.      Tinder Bypasses Google Play, Joining Revolt Against App Store Fee (bloomberg.com)\n",
      "        228 points by samsonradu 14 hours ago  | hide | 155&nbsp;comments              \n",
      "      \n",
      "                \n",
      "      11.      Raj Chetty’s American Dream (theatlantic.com)\n",
      "        12 points by johnny313 2 hours ago  | hide | 12&nbsp;comments              \n",
      "      \n",
      "                \n",
      "      12.      Intel’s Xeon Platinum 8284 CPU: When 300 MHz Cost $5,500 (anandtech.com)\n",
      "        26 points by varshithr 1 hour ago  | hide | 21&nbsp;comments              \n",
      "      \n",
      "                \n",
      "      13.      Hackers breach FSB contractor, expose Tor deanonymization project (zdnet.com)\n",
      "        239 points by ga-vu 7 hours ago  | hide | 87&nbsp;comments              \n",
      "      \n",
      "                \n",
      "      14.      Windows 10 Debloat Script (github.com)\n",
      "        61 points by wsdookadr 1 hour ago  | hide | 59&nbsp;comments              \n",
      "      \n",
      "                \n",
      "      15.      LGP-30 – A Drum Computer of Significance (masswerk.at)\n",
      "        19 points by masswerk 5 hours ago  | hide | 3&nbsp;comments              \n",
      "      \n",
      "                \n",
      "      16.      What senior engineers do: fix knowledge holes (mooreds.com)\n",
      "        53 points by mooreds 10 hours ago  | hide | 37&nbsp;comments              \n",
      "      \n",
      "                \n",
      "      17.      I work in an Amazon warehouse in West Sacramento (quillette.com)\n",
      "        126 points by juokaz 5 hours ago  | hide | 66&nbsp;comments              \n",
      "      \n",
      "                \n",
      "      18.      Many Americans who live paycheck to paycheck blame debt (cnbc.com)\n",
      "        49 points by hhs 3 hours ago  | hide | 142&nbsp;comments              \n",
      "      \n",
      "                \n",
      "      19.      Oral History of Donald Knuth (2007) [video] (youtube.com)\n",
      "        32 points by tosh 8 hours ago  | hide | 2&nbsp;comments              \n",
      "      \n",
      "                \n",
      "      20.      Centenarian Radio Amateur’s Efforts Helped Pave the Way to the Moon (arrl.org)\n",
      "        27 points by wglb 9 hours ago  | hide | discuss              \n",
      "      \n",
      "                \n",
      "      21.      Where the Bodies Are Buried (texasobserver.org)\n",
      "        16 points by laurex 4 hours ago  | hide | 1&nbsp;comment              \n",
      "      \n",
      "                \n",
      "      22.      Let's talk about peeing in space (twitter.com)\n",
      "        188 points by etxm 6 hours ago  | hide | 37&nbsp;comments              \n",
      "      \n",
      "                \n",
      "      23.      What a Newfound Kingdom Means for the Tree of Life (2018) (scientificamerican.com)\n",
      "        60 points by curtis 10 hours ago  | hide | 26&nbsp;comments              \n",
      "      \n",
      "                \n",
      "      24.      Semantic Drift (harpers.org)\n",
      "        37 points by drjohnson 11 hours ago  | hide | 31&nbsp;comments              \n",
      "      \n",
      "                \n",
      "      25.      Alan Lomax and the Search for the Origins of Music (tabletmag.com)\n",
      "        33 points by whocansay 13 hours ago  | hide | 3&nbsp;comments              \n",
      "      \n",
      "                \n",
      "      26.      Quark – A software sketchbook for your projects (medium.com)\n",
      "        84 points by nishkalkashyap 6 hours ago  | hide | 21&nbsp;comments              \n",
      "      \n",
      "                \n",
      "      27.      Cast Handbook: How to Learn More from Incidents and Accidents [pdf] (mit.edu)\n",
      "        41 points by yarapavan 14 hours ago  | hide | 3&nbsp;comments              \n",
      "      \n",
      "                \n",
      "      28.      Oregon passed sweeping housing crisis laws (latimes.com)\n",
      "        132 points by pseudolus 10 hours ago  | hide | 213&nbsp;comments              \n",
      "      \n",
      "                \n",
      "      29.      One Dead Media (2008) (kk.org)\n",
      "        14 points by Tomte 8 hours ago  | hide | 3&nbsp;comments              \n",
      "      \n",
      "                \n",
      "      30.      Bypassing anti-incognito detection in Google Chrome (mishravikas.com)\n",
      "        210 points by Cub3 17 hours ago  | hide | 88&nbsp;comments              \n",
      "      \n",
      "            More\n",
      "  \n",
      "\n",
      "\n",
      "        Registration is open for Startup School 2019. Classes start July 22nd.\n",
      "      Guidelines\n",
      "        | FAQ\n",
      "        | Support\n",
      "        | API\n",
      "        | Security\n",
      "        | Lists\n",
      "        | Bookmarklet\n",
      "        | Legal\n",
      "        | Apply to YC\n",
      "        | ContactSearch:\n",
      "          \n",
      "            \n",
      "      \n",
      "  \n",
      "\n"
     ]
    }
   ],
   "source": [
    "import re\n",
    "\n",
    "# Remove HTML tags using RegEx\n",
    "pattern = re.compile(r'<.*?>')  # tags look like <...>\n",
    "print(pattern.sub('', r.text))  # replace them with blank"
   ]
  },
  {
   "cell_type": "code",
   "execution_count": 8,
   "metadata": {},
   "outputs": [
    {
     "name": "stdout",
     "output_type": "stream",
     "text": [
      "\n",
      "            \n",
      "          \n",
      "        Hacker News\n",
      "        \n",
      "                  Hacker News\n",
      "              new | past | comments | ask | show | jobs | submit            \n",
      "                              login\n",
      "                          \n",
      "              \n",
      "\n",
      "              \n",
      "      1.      Understanding Docker Container Escapes (trailofbits.com)\n",
      "        34 points by ingve 1 hour ago  | hide | 11 comments              \n",
      "      \n",
      "                \n",
      "      2.      Flakes – Proposed mechanism to package Nix expressions into composable entities (github.com)\n",
      "        108 points by based2 5 hours ago  | hide | 20 comments              \n",
      "      \n",
      "                \n",
      "      3.      The reliability pillar of the AWS Well-Architected Framework [pdf] (awsstatic.com)\n",
      "        77 points by robfig 4 hours ago  | hide | 37 comments              \n",
      "      \n",
      "                \n",
      "      4.      How Ancient Rome’s Concrete Has Survived 2,000 Years (2017) (time.com)\n",
      "        74 points by diodorus 5 hours ago  | hide | 13 comments              \n",
      "      \n",
      "                \n",
      "      5.      Inferno (Operating System) (wikipedia.org)\n",
      "        8 points by giancarlostoro 1 hour ago  | hide | discuss              \n",
      "      \n",
      "                \n",
      "      6.      Wittgenstein’s Legacy: The Principles of the Private Language Arguments (2018) (doi.org)\n",
      "        72 points by tokyoseb 6 hours ago  | hide | 37 comments              \n",
      "      \n",
      "                \n",
      "      7.      ZFS on Linux still has annoying issues with ARC size (utoronto.ca)\n",
      "        46 points by protomyth 5 hours ago  | hide | 4 comments              \n",
      "      \n",
      "                \n",
      "      8.      Trust is good, control is better: Reproducible builds at F-Droid (dorfbrunnen.eu)\n",
      "        141 points by ericdanielski 10 hours ago  | hide | 36 comments              \n",
      "      \n",
      "                \n",
      "      9.      Running the numbers on an insane scheme to save Antarctic ice (arstechnica.com)\n",
      "        14 points by jseliger 2 hours ago  | hide | 3 comments              \n",
      "      \n",
      "                \n",
      "      10.      Tinder Bypasses Google Play, Joining Revolt Against App Store Fee (bloomberg.com)\n",
      "        228 points by samsonradu 14 hours ago  | hide | 155 comments              \n",
      "      \n",
      "                \n",
      "      11.      Raj Chetty’s American Dream (theatlantic.com)\n",
      "        12 points by johnny313 2 hours ago  | hide | 12 comments              \n",
      "      \n",
      "                \n",
      "      12.      Intel’s Xeon Platinum 8284 CPU: When 300 MHz Cost $5,500 (anandtech.com)\n",
      "        26 points by varshithr 1 hour ago  | hide | 21 comments              \n",
      "      \n",
      "                \n",
      "      13.      Hackers breach FSB contractor, expose Tor deanonymization project (zdnet.com)\n",
      "        239 points by ga-vu 7 hours ago  | hide | 87 comments              \n",
      "      \n",
      "                \n",
      "      14.      Windows 10 Debloat Script (github.com)\n",
      "        61 points by wsdookadr 1 hour ago  | hide | 59 comments              \n",
      "      \n",
      "                \n",
      "      15.      LGP-30 – A Drum Computer of Significance (masswerk.at)\n",
      "        19 points by masswerk 5 hours ago  | hide | 3 comments              \n",
      "      \n",
      "                \n",
      "      16.      What senior engineers do: fix knowledge holes (mooreds.com)\n",
      "        53 points by mooreds 10 hours ago  | hide | 37 comments              \n",
      "      \n",
      "                \n",
      "      17.      I work in an Amazon warehouse in West Sacramento (quillette.com)\n",
      "        126 points by juokaz 5 hours ago  | hide | 66 comments              \n",
      "      \n",
      "                \n",
      "      18.      Many Americans who live paycheck to paycheck blame debt (cnbc.com)\n",
      "        49 points by hhs 3 hours ago  | hide | 142 comments              \n",
      "      \n",
      "                \n",
      "      19.      Oral History of Donald Knuth (2007) [video] (youtube.com)\n",
      "        32 points by tosh 8 hours ago  | hide | 2 comments              \n",
      "      \n",
      "                \n",
      "      20.      Centenarian Radio Amateur’s Efforts Helped Pave the Way to the Moon (arrl.org)\n",
      "        27 points by wglb 9 hours ago  | hide | discuss              \n",
      "      \n",
      "                \n",
      "      21.      Where the Bodies Are Buried (texasobserver.org)\n",
      "        16 points by laurex 4 hours ago  | hide | 1 comment              \n",
      "      \n",
      "                \n",
      "      22.      Let's talk about peeing in space (twitter.com)\n",
      "        188 points by etxm 6 hours ago  | hide | 37 comments              \n",
      "      \n",
      "                \n",
      "      23.      What a Newfound Kingdom Means for the Tree of Life (2018) (scientificamerican.com)\n",
      "        60 points by curtis 10 hours ago  | hide | 26 comments              \n",
      "      \n",
      "                \n",
      "      24.      Semantic Drift (harpers.org)\n",
      "        37 points by drjohnson 11 hours ago  | hide | 31 comments              \n",
      "      \n",
      "                \n",
      "      25.      Alan Lomax and the Search for the Origins of Music (tabletmag.com)\n",
      "        33 points by whocansay 13 hours ago  | hide | 3 comments              \n",
      "      \n",
      "                \n",
      "      26.      Quark – A software sketchbook for your projects (medium.com)\n",
      "        84 points by nishkalkashyap 6 hours ago  | hide | 21 comments              \n",
      "      \n",
      "                \n",
      "      27.      Cast Handbook: How to Learn More from Incidents and Accidents [pdf] (mit.edu)\n",
      "        41 points by yarapavan 14 hours ago  | hide | 3 comments              \n",
      "      \n",
      "                \n",
      "      28.      Oregon passed sweeping housing crisis laws (latimes.com)\n",
      "        132 points by pseudolus 10 hours ago  | hide | 213 comments              \n",
      "      \n",
      "                \n",
      "      29.      One Dead Media (2008) (kk.org)\n",
      "        14 points by Tomte 8 hours ago  | hide | 3 comments              \n",
      "      \n",
      "                \n",
      "      30.      Bypassing anti-incognito detection in Google Chrome (mishravikas.com)\n",
      "        210 points by Cub3 17 hours ago  | hide | 88 comments              \n",
      "      \n",
      "            More\n",
      "  \n",
      "\n",
      "\n",
      "        Registration is open for Startup School 2019. Classes start July 22nd.\n",
      "      Guidelines\n",
      "        | FAQ\n",
      "        | Support\n",
      "        | API\n",
      "        | Security\n",
      "        | Lists\n",
      "        | Bookmarklet\n",
      "        | Legal\n",
      "        | Apply to YC\n",
      "        | ContactSearch:\n",
      "          \n",
      "            \n",
      "      \n",
      "  \n",
      "\n"
     ]
    }
   ],
   "source": [
    "from bs4 import BeautifulSoup\n",
    "\n",
    "# Remove HTML tags using Beautiful Soup library\n",
    "soup = BeautifulSoup(r.text, \"html5lib\")\n",
    "print(soup.get_text())"
   ]
  },
  {
   "cell_type": "code",
   "execution_count": 9,
   "metadata": {
    "scrolled": true
   },
   "outputs": [
    {
     "data": {
      "text/plain": [
       "<tr class=\"athing\" id=\"20487625\">\n",
       "      <td align=\"right\" class=\"title\" valign=\"top\"><span class=\"rank\">1.</span></td>      <td class=\"votelinks\" valign=\"top\"><center><a href=\"vote?id=20487625&amp;how=up&amp;goto=news\" id=\"up_20487625\"><div class=\"votearrow\" title=\"upvote\"></div></a></center></td><td class=\"title\"><a class=\"storylink\" href=\"https://blog.trailofbits.com/2019/07/19/understanding-docker-container-escapes/\">Understanding Docker Container Escapes</a><span class=\"sitebit comhead\"> (<a href=\"from?site=trailofbits.com\"><span class=\"sitestr\">trailofbits.com</span></a>)</span></td></tr>"
      ]
     },
     "execution_count": 9,
     "metadata": {},
     "output_type": "execute_result"
    }
   ],
   "source": [
    "# Find all articles\n",
    "summaries = soup.find_all(\"tr\", class_=\"athing\")\n",
    "summaries[0]"
   ]
  },
  {
   "cell_type": "code",
   "execution_count": 10,
   "metadata": {},
   "outputs": [
    {
     "data": {
      "text/plain": [
       "'Understanding Docker Container Escapes'"
      ]
     },
     "execution_count": 10,
     "metadata": {},
     "output_type": "execute_result"
    }
   ],
   "source": [
    "# Extract title\n",
    "summaries[0].find(\"a\", class_=\"storylink\").get_text().strip()"
   ]
  },
  {
   "cell_type": "code",
   "execution_count": 11,
   "metadata": {},
   "outputs": [
    {
     "name": "stdout",
     "output_type": "stream",
     "text": [
      "30 Article summaries found. Sample:\n",
      "Understanding Docker Container Escapes\n"
     ]
    }
   ],
   "source": [
    "# Find all articles, extract titles\n",
    "articles = []\n",
    "summaries = soup.find_all(\"tr\", class_=\"athing\")\n",
    "for summary in summaries:\n",
    "    title = summary.find(\"a\", class_=\"storylink\").get_text().strip()\n",
    "    articles.append((title))\n",
    "\n",
    "print(len(articles), \"Article summaries found. Sample:\")\n",
    "print(articles[0])"
   ]
  },
  {
   "cell_type": "markdown",
   "metadata": {
    "collapsed": true
   },
   "source": [
    "## Normalization"
   ]
  },
  {
   "cell_type": "markdown",
   "metadata": {},
   "source": [
    "### Case Normalization"
   ]
  },
  {
   "cell_type": "code",
   "execution_count": 12,
   "metadata": {},
   "outputs": [
    {
     "name": "stdout",
     "output_type": "stream",
     "text": [
      "The first time you see The Second Renaissance it may look boring. Look at it at least twice and definitely watch part 2. It will change your view of the matrix. Are the human people the ones who started the war ? Is AI a bad thing ?\n"
     ]
    }
   ],
   "source": [
    "# Sample text\n",
    "text = \"The first time you see The Second Renaissance it may look boring. Look at it at least twice and definitely watch part 2. It will change your view of the matrix. Are the human people the ones who started the war ? Is AI a bad thing ?\"\n",
    "print(text)"
   ]
  },
  {
   "cell_type": "code",
   "execution_count": 13,
   "metadata": {},
   "outputs": [
    {
     "name": "stdout",
     "output_type": "stream",
     "text": [
      "the first time you see the second renaissance it may look boring. look at it at least twice and definitely watch part 2. it will change your view of the matrix. are the human people the ones who started the war ? is ai a bad thing ?\n"
     ]
    }
   ],
   "source": [
    "# Convert to lowercase\n",
    "text = text.lower() \n",
    "print(text)"
   ]
  },
  {
   "cell_type": "markdown",
   "metadata": {},
   "source": [
    "### Punctuation Removal"
   ]
  },
  {
   "cell_type": "code",
   "execution_count": 14,
   "metadata": {},
   "outputs": [
    {
     "name": "stdout",
     "output_type": "stream",
     "text": [
      "the first time you see the second renaissance it may look boring  look at it at least twice and definitely watch part 2  it will change your view of the matrix  are the human people the ones who started the war   is ai a bad thing  \n"
     ]
    }
   ],
   "source": [
    "import re\n",
    "\n",
    "# Remove punctuation characters\n",
    "text = re.sub(r\"[^a-zA-Z0-9]\", \" \", text) \n",
    "print(text)"
   ]
  },
  {
   "cell_type": "markdown",
   "metadata": {},
   "source": [
    "## Tokenization"
   ]
  },
  {
   "cell_type": "code",
   "execution_count": 15,
   "metadata": {},
   "outputs": [
    {
     "name": "stdout",
     "output_type": "stream",
     "text": [
      "['the', 'first', 'time', 'you', 'see', 'the', 'second', 'renaissance', 'it', 'may', 'look', 'boring', 'look', 'at', 'it', 'at', 'least', 'twice', 'and', 'definitely', 'watch', 'part', '2', 'it', 'will', 'change', 'your', 'view', 'of', 'the', 'matrix', 'are', 'the', 'human', 'people', 'the', 'ones', 'who', 'started', 'the', 'war', 'is', 'ai', 'a', 'bad', 'thing']\n"
     ]
    }
   ],
   "source": [
    "# Split text into tokens (words)\n",
    "words = text.split()\n",
    "print(words)"
   ]
  },
  {
   "cell_type": "markdown",
   "metadata": {},
   "source": [
    "### NLTK: Natural Language ToolKit"
   ]
  },
  {
   "cell_type": "code",
   "execution_count": 16,
   "metadata": {},
   "outputs": [],
   "source": [
    "import os\n",
    "import nltk\n",
    "nltk.data.path.append(os.path.join(os.getcwd(), \"nltk_data\"))"
   ]
  },
  {
   "cell_type": "code",
   "execution_count": 17,
   "metadata": {},
   "outputs": [
    {
     "name": "stdout",
     "output_type": "stream",
     "text": [
      "Dr. Smith graduated from the University of Washington. He later started an analytics firm called Lux, which catered to enterprise customers.\n"
     ]
    }
   ],
   "source": [
    "# Another sample text\n",
    "text = \"Dr. Smith graduated from the University of Washington. He later started an analytics firm called Lux, which catered to enterprise customers.\"\n",
    "print(text)"
   ]
  },
  {
   "cell_type": "code",
   "execution_count": 18,
   "metadata": {},
   "outputs": [
    {
     "name": "stdout",
     "output_type": "stream",
     "text": [
      "['Dr.', 'Smith', 'graduated', 'from', 'the', 'University', 'of', 'Washington', '.', 'He', 'later', 'started', 'an', 'analytics', 'firm', 'called', 'Lux', ',', 'which', 'catered', 'to', 'enterprise', 'customers', '.']\n"
     ]
    }
   ],
   "source": [
    "from nltk.tokenize import word_tokenize\n",
    "\n",
    "# Split text into words using NLTK\n",
    "words = word_tokenize(text)\n",
    "print(words)"
   ]
  },
  {
   "cell_type": "code",
   "execution_count": 19,
   "metadata": {},
   "outputs": [
    {
     "name": "stdout",
     "output_type": "stream",
     "text": [
      "['Dr. Smith graduated from the University of Washington.', 'He later started an analytics firm called Lux, which catered to enterprise customers.']\n"
     ]
    }
   ],
   "source": [
    "from nltk.tokenize import sent_tokenize\n",
    "\n",
    "# Split text into sentences\n",
    "sentences = sent_tokenize(text)\n",
    "print(sentences)"
   ]
  },
  {
   "cell_type": "code",
   "execution_count": 20,
   "metadata": {},
   "outputs": [
    {
     "name": "stdout",
     "output_type": "stream",
     "text": [
      "['i', 'me', 'my', 'myself', 'we', 'our', 'ours', 'ourselves', 'you', \"you're\", \"you've\", \"you'll\", \"you'd\", 'your', 'yours', 'yourself', 'yourselves', 'he', 'him', 'his', 'himself', 'she', \"she's\", 'her', 'hers', 'herself', 'it', \"it's\", 'its', 'itself', 'they', 'them', 'their', 'theirs', 'themselves', 'what', 'which', 'who', 'whom', 'this', 'that', \"that'll\", 'these', 'those', 'am', 'is', 'are', 'was', 'were', 'be', 'been', 'being', 'have', 'has', 'had', 'having', 'do', 'does', 'did', 'doing', 'a', 'an', 'the', 'and', 'but', 'if', 'or', 'because', 'as', 'until', 'while', 'of', 'at', 'by', 'for', 'with', 'about', 'against', 'between', 'into', 'through', 'during', 'before', 'after', 'above', 'below', 'to', 'from', 'up', 'down', 'in', 'out', 'on', 'off', 'over', 'under', 'again', 'further', 'then', 'once', 'here', 'there', 'when', 'where', 'why', 'how', 'all', 'any', 'both', 'each', 'few', 'more', 'most', 'other', 'some', 'such', 'no', 'nor', 'not', 'only', 'own', 'same', 'so', 'than', 'too', 'very', 's', 't', 'can', 'will', 'just', 'don', \"don't\", 'should', \"should've\", 'now', 'd', 'll', 'm', 'o', 're', 've', 'y', 'ain', 'aren', \"aren't\", 'couldn', \"couldn't\", 'didn', \"didn't\", 'doesn', \"doesn't\", 'hadn', \"hadn't\", 'hasn', \"hasn't\", 'haven', \"haven't\", 'isn', \"isn't\", 'ma', 'mightn', \"mightn't\", 'mustn', \"mustn't\", 'needn', \"needn't\", 'shan', \"shan't\", 'shouldn', \"shouldn't\", 'wasn', \"wasn't\", 'weren', \"weren't\", 'won', \"won't\", 'wouldn', \"wouldn't\"]\n"
     ]
    }
   ],
   "source": [
    "# List stop words\n",
    "from nltk.corpus import stopwords\n",
    "print(stopwords.words(\"english\"))"
   ]
  },
  {
   "cell_type": "code",
   "execution_count": 21,
   "metadata": {},
   "outputs": [
    {
     "name": "stdout",
     "output_type": "stream",
     "text": [
      "['the', 'first', 'time', 'you', 'see', 'the', 'second', 'renaissance', 'it', 'may', 'look', 'boring', 'look', 'at', 'it', 'at', 'least', 'twice', 'and', 'definitely', 'watch', 'part', '2', 'it', 'will', 'change', 'your', 'view', 'of', 'the', 'matrix', 'are', 'the', 'human', 'people', 'the', 'ones', 'who', 'started', 'the', 'war', 'is', 'ai', 'a', 'bad', 'thing']\n"
     ]
    }
   ],
   "source": [
    "# Reset text\n",
    "text = \"The first time you see The Second Renaissance it may look boring. Look at it at least twice and definitely watch part 2. It will change your view of the matrix. Are the human people the ones who started the war ? Is AI a bad thing ?\"\n",
    "\n",
    "# Normalize it\n",
    "text = re.sub(r\"[^a-zA-Z0-9]\", \" \", text.lower())\n",
    "\n",
    "# Tokenize it\n",
    "words = text.split()\n",
    "print(words)"
   ]
  },
  {
   "cell_type": "code",
   "execution_count": 22,
   "metadata": {},
   "outputs": [
    {
     "name": "stdout",
     "output_type": "stream",
     "text": [
      "['first', 'time', 'see', 'second', 'renaissance', 'may', 'look', 'boring', 'look', 'least', 'twice', 'definitely', 'watch', 'part', '2', 'change', 'view', 'matrix', 'human', 'people', 'ones', 'started', 'war', 'ai', 'bad', 'thing']\n"
     ]
    }
   ],
   "source": [
    "# Remove stop words\n",
    "words = [w for w in words if w not in stopwords.words(\"english\")]\n",
    "print(words)"
   ]
  },
  {
   "cell_type": "markdown",
   "metadata": {},
   "source": [
    "### Sentence Parsing"
   ]
  },
  {
   "cell_type": "code",
   "execution_count": 23,
   "metadata": {},
   "outputs": [
    {
     "name": "stdout",
     "output_type": "stream",
     "text": [
      "(S\n",
      "  (NP I)\n",
      "  (VP\n",
      "    (VP (V shot) (NP (Det an) (N elephant)))\n",
      "    (PP (P in) (NP (Det my) (N pajamas)))))\n",
      "(S\n",
      "  (NP I)\n",
      "  (VP\n",
      "    (V shot)\n",
      "    (NP (Det an) (N elephant) (PP (P in) (NP (Det my) (N pajamas))))))\n"
     ]
    }
   ],
   "source": [
    "import nltk\n",
    "\n",
    "# Define a custom grammar\n",
    "my_grammar = nltk.CFG.fromstring(\"\"\"\n",
    "S -> NP VP\n",
    "PP -> P NP\n",
    "NP -> Det N | Det N PP | 'I'\n",
    "VP -> V NP | VP PP\n",
    "Det -> 'an' | 'my'\n",
    "N -> 'elephant' | 'pajamas'\n",
    "V -> 'shot'\n",
    "P -> 'in'\n",
    "\"\"\")\n",
    "parser = nltk.ChartParser(my_grammar)\n",
    "\n",
    "# Parse a sentence\n",
    "sentence = word_tokenize(\"I shot an elephant in my pajamas\")\n",
    "for tree in parser.parse(sentence):\n",
    "    print(tree)"
   ]
  },
  {
   "cell_type": "markdown",
   "metadata": {},
   "source": [
    "## Stemming & Lemmatization\n",
    "\n",
    "### Stemming"
   ]
  },
  {
   "cell_type": "code",
   "execution_count": 24,
   "metadata": {},
   "outputs": [
    {
     "name": "stdout",
     "output_type": "stream",
     "text": [
      "['first', 'time', 'see', 'second', 'renaiss', 'may', 'look', 'bore', 'look', 'least', 'twice', 'definit', 'watch', 'part', '2', 'chang', 'view', 'matrix', 'human', 'peopl', 'one', 'start', 'war', 'ai', 'bad', 'thing']\n"
     ]
    }
   ],
   "source": [
    "from nltk.stem.porter import PorterStemmer\n",
    "\n",
    "# Reduce words to their stems\n",
    "stemmed = [PorterStemmer().stem(w) for w in words]\n",
    "print(stemmed)"
   ]
  },
  {
   "cell_type": "markdown",
   "metadata": {},
   "source": [
    "### Lemmatization"
   ]
  },
  {
   "cell_type": "code",
   "execution_count": 25,
   "metadata": {},
   "outputs": [
    {
     "name": "stdout",
     "output_type": "stream",
     "text": [
      "['first', 'time', 'see', 'second', 'renaissance', 'may', 'look', 'boring', 'look', 'least', 'twice', 'definitely', 'watch', 'part', '2', 'change', 'view', 'matrix', 'human', 'people', 'one', 'started', 'war', 'ai', 'bad', 'thing']\n"
     ]
    }
   ],
   "source": [
    "from nltk.stem.wordnet import WordNetLemmatizer\n",
    "\n",
    "# Reduce words to their root form\n",
    "lemmed = [WordNetLemmatizer().lemmatize(w) for w in words]\n",
    "print(lemmed)"
   ]
  },
  {
   "cell_type": "code",
   "execution_count": 26,
   "metadata": {},
   "outputs": [
    {
     "name": "stdout",
     "output_type": "stream",
     "text": [
      "['first', 'time', 'see', 'second', 'renaissance', 'may', 'look', 'bore', 'look', 'least', 'twice', 'definitely', 'watch', 'part', '2', 'change', 'view', 'matrix', 'human', 'people', 'one', 'start', 'war', 'ai', 'bad', 'thing']\n"
     ]
    }
   ],
   "source": [
    "# Lemmatize verbs by specifying pos\n",
    "lemmed = [WordNetLemmatizer().lemmatize(w, pos='v') for w in lemmed]\n",
    "print(lemmed)"
   ]
  },
  {
   "cell_type": "code",
   "execution_count": null,
   "metadata": {},
   "outputs": [],
   "source": []
  }
 ],
 "metadata": {
  "kernelspec": {
   "display_name": "Python 3",
   "language": "python",
   "name": "python3"
  },
  "language_info": {
   "codemirror_mode": {
    "name": "ipython",
    "version": 3
   },
   "file_extension": ".py",
   "mimetype": "text/x-python",
   "name": "python",
   "nbconvert_exporter": "python",
   "pygments_lexer": "ipython3",
   "version": "3.6.3"
  }
 },
 "nbformat": 4,
 "nbformat_minor": 2
}
